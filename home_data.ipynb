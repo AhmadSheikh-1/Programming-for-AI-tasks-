{
 "cells": [
  {
   "cell_type": "code",
   "execution_count": null,
   "metadata": {},
   "outputs": [],
   "source": [
    "import pandas as pd\n",
    "import numpy as np\n",
    "from sklearn.preprocessing import StandardScaler\n",
    "from sklearn.model_selection import train_test_split\n",
    "from sklearn.metrics import mean_absolute_error\n",
    "from sklearn.preprocessing import LabelEncoder\n",
    "from sklearn.linear_model import LinearRegression\n",
    "from sklearn.metrics import mean_absolute_error\n",
    "import joblib"
   ]
  },
  {
   "cell_type": "markdown",
   "metadata": {},
   "source": [
    "Training Data"
   ]
  },
  {
   "cell_type": "markdown",
   "metadata": {},
   "source": [
    "Data Load"
   ]
  },
  {
   "cell_type": "code",
   "execution_count": null,
   "metadata": {},
   "outputs": [],
   "source": [
    "test_data = pd.read_csv('test.csv')\n",
    "test_data.head()"
   ]
  },
  {
   "cell_type": "code",
   "execution_count": null,
   "metadata": {},
   "outputs": [],
   "source": [
    "test_data.shape"
   ]
  },
  {
   "cell_type": "code",
   "execution_count": null,
   "metadata": {},
   "outputs": [],
   "source": [
    "test_data.drop(\"Alley\", axis=1, inplace=True)\n",
    "test_data.drop(\"PoolQC\", axis=1, inplace=True)\n",
    "test_data.drop(\"Fence\", axis=1, inplace=True)\n",
    "test_data.drop(\"MiscFeature\", axis=1, inplace=True)\n",
    "test_data.drop(\"MSZoning\", axis=1, inplace=True)"
   ]
  },
  {
   "cell_type": "code",
   "execution_count": null,
   "metadata": {},
   "outputs": [],
   "source": [
    "test_data[\"LotFrontage\"] = test_data[\"LotFrontage\"].fillna(test_data.groupby(\"Neighborhood\")[\"LotFrontage\"].mean(\"median\"))"
   ]
  },
  {
   "cell_type": "code",
   "execution_count": null,
   "metadata": {},
   "outputs": [],
   "source": [
    "df = pd.read_csv(\"train.csv\")\n",
    "df"
   ]
  },
  {
   "cell_type": "code",
   "execution_count": null,
   "metadata": {},
   "outputs": [],
   "source": [
    "df.info()"
   ]
  },
  {
   "cell_type": "markdown",
   "metadata": {},
   "source": [
    "Dropping Columns"
   ]
  },
  {
   "cell_type": "code",
   "execution_count": null,
   "metadata": {},
   "outputs": [],
   "source": [
    "df.drop(\"Alley\", axis=1, inplace=True)\n",
    "df.drop(\"PoolQC\", axis=1, inplace=True)\n",
    "df.drop(\"Fence\", axis=1, inplace=True)\n",
    "df.drop(\"MiscFeature\", axis=1, inplace=True)\n",
    "df.drop(\"MSZoning\", axis=1, inplace=True)"
   ]
  },
  {
   "cell_type": "code",
   "execution_count": null,
   "metadata": {},
   "outputs": [],
   "source": [
    "df.info()"
   ]
  },
  {
   "cell_type": "markdown",
   "metadata": {},
   "source": [
    "Filling Values"
   ]
  },
  {
   "cell_type": "code",
   "execution_count": null,
   "metadata": {},
   "outputs": [],
   "source": [
    "df[\"LotFrontage\"] = df[\"LotFrontage\"].fillna(df.groupby(\"Neighborhood\")[\"LotFrontage\"].mean(\"median\"))"
   ]
  },
  {
   "cell_type": "code",
   "execution_count": null,
   "metadata": {},
   "outputs": [],
   "source": [
    "df[\"MasVnrArea\"] = df[\"MasVnrArea\"].fillna(0)\n",
    "df[\"GarageYrBlt\"] = df[\"GarageYrBlt\"].fillna(0)\n",
    "df[\"BsmtFinSF1\"] = df[\"BsmtFinSF1\"].fillna(0)\n",
    "df[\"BsmtFinSF2\"] = df[\"BsmtFinSF2\"].fillna(0)\n",
    "df[\"BsmtUnfSF\"] = df[\"BsmtUnfSF\"].fillna(0)\n",
    "df[\"TotalBsmtSF\"] = df[\"TotalBsmtSF\"].fillna(0)\n",
    "df[\"GarageCars\"] = df[\"GarageCars\"].fillna(0)\n",
    "df[\"GarageArea\"] = df[\"GarageArea\"].fillna(0)\n",
    "df[\"ExterQual\"] = df[\"ExterQual\"].fillna(0)\n",
    "df[\"ExterCond\"] = df[\"ExterCond\"].fillna(0)\n",
    "df[\"BsmtQual\"] = df[\"BsmtQual\"].fillna(0)\n",
    "df[\"BsmtCond\"] = df[\"BsmtCond\"].fillna(0)\n",
    "df[\"HeatingQC\"] = df[\"HeatingQC\"].fillna(0)\n",
    "df[\"KitchenQual\"] = df[\"KitchenQual\"].fillna(0)\n",
    "df[\"FireplaceQu\"] = df[\"FireplaceQu\"].fillna(0)\n",
    "df[\"GarageQual\"] = df[\"GarageQual\"].fillna(0)\n",
    "df[\"GarageCond\"] = df[\"GarageCond\"].fillna(0)\n",
    "df['FireplaceQu'] = df['FireplaceQu'].fillna(0)\n",
    "df['GarageQual'] = df['GarageQual'].fillna(0)\n",
    "df['GarageCond'] = df['GarageCond'].fillna(0)"
   ]
  },
  {
   "cell_type": "code",
   "execution_count": null,
   "metadata": {},
   "outputs": [],
   "source": [
    "df.isnull().sum()"
   ]
  },
  {
   "cell_type": "code",
   "execution_count": null,
   "metadata": {},
   "outputs": [],
   "source": [
    "test_data[\"MasVnrArea\"] = test_data[\"MasVnrArea\"].fillna(0)\n",
    "test_data[\"GarageYrBlt\"] = test_data[\"GarageYrBlt\"].fillna(0)\n",
    "test_data[\"BsmtFinSF1\"] = test_data[\"BsmtFinSF1\"].fillna(0)\n",
    "test_data[\"BsmtFinSF2\"] = test_data[\"BsmtFinSF2\"].fillna(0)\n",
    "test_data[\"BsmtUnfSF\"] = test_data[\"BsmtUnfSF\"].fillna(0)\n",
    "test_data[\"TotalBsmtSF\"] = test_data[\"TotalBsmtSF\"].fillna(0)\n",
    "test_data[\"GarageCars\"] = test_data[\"GarageCars\"].fillna(0)\n",
    "test_data[\"GarageArea\"] = test_data[\"GarageArea\"].fillna(0)\n",
    "test_data[\"ExterQual\"] = test_data[\"ExterQual\"].fillna(0)\n",
    "test_data[\"ExterCond\"] = test_data[\"ExterCond\"].fillna(0)\n",
    "test_data[\"BsmtQual\"] = test_data[\"BsmtQual\"].fillna(0)\n",
    "test_data[\"BsmtCond\"] = test_data[\"BsmtCond\"].fillna(0)\n",
    "test_data[\"HeatingQC\"] = test_data[\"HeatingQC\"].fillna(0)\n",
    "test_data[\"KitchenQual\"] = test_data[\"KitchenQual\"].fillna(0)\n",
    "test_data[\"FireplaceQu\"] = test_data[\"FireplaceQu\"].fillna(0)\n",
    "test_data[\"GarageQual\"] = test_data[\"GarageQual\"].fillna(0)\n",
    "test_data[\"GarageCond\"] = test_data[\"GarageCond\"].fillna(0)\n",
    "df[\"GarageCond\"] = df[\"GarageCond\"].fillna(0)\n",
    "df['FireplaceQu'] = df['FireplaceQu'].fillna(0)\n",
    "df['GarageQual'] = df['GarageQual'].fillna(0)\n",
    "df['GarageCond'] = df['GarageCond'].fillna(0)"
   ]
  },
  {
   "cell_type": "code",
   "execution_count": null,
   "metadata": {},
   "outputs": [],
   "source": [
    "df.info()"
   ]
  },
  {
   "cell_type": "code",
   "execution_count": null,
   "metadata": {},
   "outputs": [],
   "source": [
    "fill_columns = [\"MasVnrType\", \"BsmtQual\", \"BsmtCond\", \"BsmtExposure\", \"BsmtFinType1\", \n",
    "                \"BsmtFinType2\", \"FireplaceQu\", \"GarageType\", \"GarageFinish\", \n",
    "                \"GarageQual\", \"GarageCond\", \"Electrical\"]\n",
    "\n",
    "df[fill_columns] = df[fill_columns].fillna(\"None\")\n"
   ]
  },
  {
   "cell_type": "code",
   "execution_count": null,
   "metadata": {},
   "outputs": [],
   "source": [
    "fill_columns = [\"MasVnrType\", \"BsmtQual\", \"BsmtCond\", \"BsmtExposure\", \"BsmtFinType1\", \n",
    "                \"BsmtFinType2\", \"FireplaceQu\", \"GarageType\", \"GarageFinish\", \n",
    "                \"GarageQual\", \"GarageCond\", \"Electrical\"]\n",
    "\n",
    "test_data[fill_columns] = test_data[fill_columns].fillna(\"None\")"
   ]
  },
  {
   "cell_type": "code",
   "execution_count": null,
   "metadata": {},
   "outputs": [],
   "source": [
    "df.info()"
   ]
  },
  {
   "cell_type": "markdown",
   "metadata": {},
   "source": [
    "Encoding Categorical Variables"
   ]
  },
  {
   "cell_type": "code",
   "execution_count": null,
   "metadata": {},
   "outputs": [],
   "source": [
    "df[\"CentralAir\"] = df[\"CentralAir\"].map({\"Y\": 1, \"N\": 0})"
   ]
  },
  {
   "cell_type": "code",
   "execution_count": null,
   "metadata": {},
   "outputs": [],
   "source": [
    "test_data[\"CentralAir\"] = test_data[\"CentralAir\"].map({\"Y\": 1, \"N\": 0})"
   ]
  },
  {
   "cell_type": "markdown",
   "metadata": {},
   "source": [
    "Label Encoding for Ordered Categories"
   ]
  },
  {
   "cell_type": "code",
   "execution_count": null,
   "metadata": {},
   "outputs": [],
   "source": [
    "quality_mapping = {\"None\": 0, \"Po\": 1, \"Fa\": 2, \"TA\": 3, \"Gd\": 4, \"Ex\": 5}\n",
    "\n",
    "df[\"ExterQual\"] = df[\"ExterQual\"].map(quality_mapping)\n",
    "df[\"ExterCond\"] = df[\"ExterCond\"].map(quality_mapping)\n",
    "df[\"KitchenQual\"] = df[\"KitchenQual\"].map(quality_mapping)\n",
    "df[\"HeatingQC\"] = df[\"HeatingQC\"].map(quality_mapping)\n",
    "df[\"BsmtQual\"] = df[\"BsmtQual\"].map(quality_mapping)\n",
    "df[\"BsmtCond\"] = df[\"BsmtCond\"].map(quality_mapping)\n",
    "df[\"FireplaceQu\"] = df[\"FireplaceQu\"].map(quality_mapping)\n",
    "df[\"GarageQual\"] = df[\"GarageQual\"].map(quality_mapping)\n",
    "df[\"GarageCond\"] = df[\"GarageCond\"].map(quality_mapping)\n",
    "df[\"LotFrontage\"] = df[\"LotFrontage\"].map(quality_mapping)\n"
   ]
  },
  {
   "cell_type": "code",
   "execution_count": null,
   "metadata": {},
   "outputs": [],
   "source": [
    "quality_mapping = {\"None\": 0, \"Po\": 1, \"Fa\": 2, \"TA\": 3, \"Gd\": 4, \"Ex\": 5}\n",
    "\n",
    "test_data[\"ExterQual\"] = test_data[\"ExterQual\"].map(quality_mapping)\n",
    "test_data[\"ExterCond\"] = test_data[\"ExterCond\"].map(quality_mapping)\n",
    "test_data[\"KitchenQual\"] = test_data[\"KitchenQual\"].map(quality_mapping)\n",
    "test_data[\"HeatingQC\"] = test_data[\"HeatingQC\"].map(quality_mapping)\n",
    "test_data[\"BsmtQual\"] = test_data[\"BsmtQual\"].map(quality_mapping)\n",
    "test_data[\"BsmtCond\"] = test_data[\"BsmtCond\"].map(quality_mapping)\n",
    "test_data[\"FireplaceQu\"] = test_data[\"FireplaceQu\"].map(quality_mapping)\n",
    "test_data[\"GarageQual\"] = test_data[\"GarageQual\"].map(quality_mapping)\n",
    "test_data[\"GarageCond\"] = test_data[\"GarageCond\"].map(quality_mapping)"
   ]
  },
  {
   "cell_type": "code",
   "execution_count": null,
   "metadata": {},
   "outputs": [],
   "source": [
    "df.info()\n"
   ]
  },
  {
   "cell_type": "code",
   "execution_count": null,
   "metadata": {},
   "outputs": [],
   "source": [
    "column_num = df.select_dtypes(include=[\"int64\", \"float64\"]).columns\n",
    "\n",
    "scaler = StandardScaler()\n",
    "df[column_num] = scaler.fit_transform(df[column_num])"
   ]
  },
  {
   "cell_type": "code",
   "execution_count": null,
   "metadata": {},
   "outputs": [],
   "source": [
    "column_num = test_data.select_dtypes(include=[\"int64\", \"float64\"]).columns\n",
    "\n",
    "scaler = StandardScaler()\n",
    "test_data[column_num] = scaler.fit_transform(test_data[column_num])"
   ]
  },
  {
   "cell_type": "code",
   "execution_count": null,
   "metadata": {},
   "outputs": [],
   "source": [
    "categorical_cols = df.select_dtypes(include=[\"object\"]).columns\n",
    "print(\"Categorical Columns:\", categorical_cols)"
   ]
  },
  {
   "cell_type": "code",
   "execution_count": null,
   "metadata": {},
   "outputs": [],
   "source": [
    "categorical_cols = test_data.select_dtypes(include=[\"object\"]).columns\n",
    "print(\"Categorical Columns:\", categorical_cols)"
   ]
  },
  {
   "cell_type": "code",
   "execution_count": null,
   "metadata": {},
   "outputs": [],
   "source": [
    "le = LabelEncoder()\n",
    "\n",
    "for col in categorical_cols:\n",
    "    df[col] = le.fit_transform(df[col])"
   ]
  },
  {
   "cell_type": "code",
   "execution_count": null,
   "metadata": {},
   "outputs": [],
   "source": [
    "le = LabelEncoder()\n",
    "\n",
    "for col in categorical_cols:\n",
    "    test_data[col] = le.fit_transform(test_data[col])"
   ]
  },
  {
   "cell_type": "code",
   "execution_count": null,
   "metadata": {},
   "outputs": [],
   "source": [
    "df.info()"
   ]
  },
  {
   "cell_type": "markdown",
   "metadata": {},
   "source": [
    "Data Load Test"
   ]
  },
  {
   "cell_type": "markdown",
   "metadata": {},
   "source": [
    "Train Test Split"
   ]
  },
  {
   "cell_type": "code",
   "execution_count": null,
   "metadata": {},
   "outputs": [],
   "source": [
    "X = df.drop(columns=[\"SalePrice\",\"LotFrontage\"])  \n",
    "y = df[\"SalePrice\"]\n",
    "X_train, X_test, y_train, y_test = train_test_split(X, y, test_size=0.2, random_state=42)"
   ]
  },
  {
   "cell_type": "code",
   "execution_count": null,
   "metadata": {},
   "outputs": [],
   "source": [
    "test_data = test_data.drop('LotFrontage',axis=1)"
   ]
  },
  {
   "cell_type": "code",
   "execution_count": null,
   "metadata": {},
   "outputs": [],
   "source": [
    "test_data.info()"
   ]
  },
  {
   "cell_type": "code",
   "execution_count": null,
   "metadata": {},
   "outputs": [],
   "source": [
    "test_data[\"BsmtFullBath\"].fillna(test_data[\"BsmtFullBath\"].median(), inplace=True)\n",
    "test_data[\"BsmtHalfBath\"].fillna(test_data[\"BsmtHalfBath\"].median(), inplace=True)\n"
   ]
  },
  {
   "cell_type": "code",
   "execution_count": null,
   "metadata": {},
   "outputs": [],
   "source": [
    "X_train = X_train.fillna(X_train.median())\n",
    "X_test = X_test.fillna(X_test.median())"
   ]
  },
  {
   "cell_type": "markdown",
   "metadata": {},
   "source": [
    "Model Training"
   ]
  },
  {
   "cell_type": "code",
   "execution_count": null,
   "metadata": {},
   "outputs": [],
   "source": [
    "X.head()"
   ]
  },
  {
   "cell_type": "code",
   "execution_count": null,
   "metadata": {},
   "outputs": [],
   "source": [
    "X.isnull().sum()"
   ]
  },
  {
   "cell_type": "code",
   "execution_count": null,
   "metadata": {},
   "outputs": [],
   "source": [
    "pd.set_option(\"display.max_rows\", None)  # Show all rows\n",
    "pd.set_option(\"display.max_columns\", None)  # Show all columns\n",
    "pd.set_option(\"display.width\", None)  # No width limit\n",
    "pd.set_option(\"display.max_colwidth\", None) "
   ]
  },
  {
   "cell_type": "code",
   "execution_count": null,
   "metadata": {},
   "outputs": [],
   "source": [
    "model = LinearRegression()\n",
    "model.fit(X,y)"
   ]
  },
  {
   "cell_type": "markdown",
   "metadata": {},
   "source": [
    "Making Prediction"
   ]
  },
  {
   "cell_type": "code",
   "execution_count": null,
   "metadata": {},
   "outputs": [],
   "source": [
    "y_pred = model.predict(test_data)\n",
    "print(\"Predictions completed!\")"
   ]
  },
  {
   "cell_type": "code",
   "execution_count": null,
   "metadata": {},
   "outputs": [],
   "source": [
    "mae = mean_absolute_error(y_test, y_pred)\n",
    "print(f\"Mean Absolute Error: {mae}\")"
   ]
  },
  {
   "cell_type": "markdown",
   "metadata": {},
   "source": [
    "Saving the model"
   ]
  },
  {
   "cell_type": "code",
   "execution_count": null,
   "metadata": {},
   "outputs": [],
   "source": [
    "y_pred.shape"
   ]
  },
  {
   "cell_type": "code",
   "execution_count": null,
   "metadata": {},
   "outputs": [],
   "source": [
    "test_data1= pd.read_csv('test.csv')"
   ]
  },
  {
   "cell_type": "code",
   "execution_count": null,
   "metadata": {},
   "outputs": [],
   "source": [
    "submission = pd.DataFrame({\n",
    "    \"Id\": test_data1[\"Id\"],  \n",
    "    \"SalePrice\": y_pred  \n",
    "})\n",
    "\n",
    "submission.to_csv(\"submission12.csv\", index=False)\n",
    "\n",
    "print(\"Submission file saved successfully!\")\n"
   ]
  },
  {
   "cell_type": "code",
   "execution_count": null,
   "metadata": {},
   "outputs": [],
   "source": [
    "joblib.dump(model, \"house_price_model.pkl\")\n",
    "print(\"Model saved successfully!\")"
   ]
  }
 ],
 "metadata": {
  "kernelspec": {
   "display_name": "Python 3",
   "language": "python",
   "name": "python3"
  },
  "language_info": {
   "codemirror_mode": {
    "name": "ipython",
    "version": 3
   },
   "file_extension": ".py",
   "mimetype": "text/x-python",
   "name": "python",
   "nbconvert_exporter": "python",
   "pygments_lexer": "ipython3",
   "version": "3.12.1"
  }
 },
 "nbformat": 4,
 "nbformat_minor": 2
}
