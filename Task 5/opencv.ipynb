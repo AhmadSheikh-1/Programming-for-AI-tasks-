{
 "cells": [
  {
   "cell_type": "code",
   "execution_count": null,
   "metadata": {},
   "outputs": [],
   "source": [
    "import cv2\n",
    "import os\n",
    "import numpy as np\n",
    "import matplotlib.pyplot as plt\n",
    "from PIL import Image"
   ]
  },
  {
   "cell_type": "markdown",
   "metadata": {},
   "source": [
    "Reading and Displaying img"
   ]
  },
  {
   "cell_type": "code",
   "execution_count": null,
   "metadata": {},
   "outputs": [],
   "source": [
    "img = cv2.imread(\"BMW.jpg\", cv2.IMREAD_COLOR)\n",
    "cv2.imshow(\"image\", img)\n",
    "cv2.waitKey(1000)\n",
    "cv2.destroyAllWindows()"
   ]
  },
  {
   "cell_type": "code",
   "execution_count": null,
   "metadata": {},
   "outputs": [],
   "source": [
    "path = r'BMW.jpg'\n",
    "image = cv2.imread(path)\n",
    "window_name = 'image'\n",
    "cv2.imshow(window_name, image)\n",
    "cv2.waitKey(1000)\n",
    "cv2.destroyAllWindows()"
   ]
  },
  {
   "cell_type": "markdown",
   "metadata": {},
   "source": [
    "Writing Image"
   ]
  },
  {
   "cell_type": "code",
   "execution_count": null,
   "metadata": {},
   "outputs": [],
   "source": [
    "image_path = r'BMW.jpg'\n",
    "directory = r'/Users/apple/Documents/Superior University/4TH SEMESTER/Intro to AI (LAB)/Assignments/OpenCv'\n",
    "\n",
    "img = cv2.imread(image_path)\n",
    "os.chdir(directory)\n",
    " \n",
    "print(\"Before saving image:\")  \n",
    "print(os.listdir(directory))  \n",
    "\n",
    "filename = 'BMW.jpg'\n",
    "cv2.imwrite(filename, img)\n",
    "\n",
    "print(\"After saving image:\")  \n",
    "print(os.listdir(directory))\n",
    "print('Successfully saved')\n"
   ]
  },
  {
   "cell_type": "markdown",
   "metadata": {},
   "source": [
    "Arithmetic Operators"
   ]
  },
  {
   "cell_type": "code",
   "execution_count": null,
   "metadata": {},
   "outputs": [],
   "source": [
    "image1 = cv2.imread('BMW.jpg')  \n",
    "image2 = cv2.imread('AMG.jpg') \n",
    "\n",
    "image2 = cv2.resize(image2, (image1.shape[1], image1.shape[0]))\n",
    "weightedSum = cv2.addWeighted(image1, 0.5, image2, 0.4, 0) \n",
    "\n",
    "cv2.imshow('Weighted Image', weightedSum) \n",
    " \n",
    "if cv2.waitKey(1000) & 0xff == 27:  \n",
    "    cv2.destroyAllWindows()"
   ]
  },
  {
   "cell_type": "markdown",
   "metadata": {},
   "source": [
    "Image Resizing"
   ]
  },
  {
   "cell_type": "code",
   "execution_count": null,
   "metadata": {},
   "outputs": [],
   "source": [
    "image = cv2.imread(r\"BMW.jpg\", 1)\n",
    "\n",
    "half = cv2.resize(image, (0, 0), fx = 0.1, fy = 0.1)\n",
    "bigger = cv2.resize(image, (1050, 1610))\n",
    "\n",
    "stretch_near = cv2.resize(image, (780, 540), \n",
    "               interpolation = cv2.INTER_LINEAR)\n",
    "\n",
    "\n",
    "Titles =[\"Original\", \"Half\", \"Bigger\", \"Interpolation Nearest\"]\n",
    "images =[image, half, bigger, stretch_near]\n",
    "count = 4\n",
    "\n",
    "for i in range(count):\n",
    "    plt.subplot(2, 2, i + 1)\n",
    "    plt.title(Titles[i])\n",
    "    plt.imshow(images[i])\n",
    "\n",
    "plt.show()\n"
   ]
  },
  {
   "cell_type": "markdown",
   "metadata": {},
   "source": [
    "Blurring Image"
   ]
  },
  {
   "cell_type": "code",
   "execution_count": null,
   "metadata": {},
   "outputs": [],
   "source": [
    "image = cv2.imread('BMW.jpg') \n",
    "\n",
    "cv2.imshow('Original Image', image) \n",
    "cv2.waitKey(1000) \n",
    "\n",
    "# Gaussian Blur \n",
    "Gaussian = cv2.GaussianBlur(image, (7, 7), 0) \n",
    "cv2.imshow('Gaussian Blurring', Gaussian) \n",
    "cv2.waitKey(1000) \n",
    "# Median Blur \n",
    "median = cv2.medianBlur(image, 5) \n",
    "cv2.imshow('Median Blurring', median) \n",
    "cv2.waitKey(1000) \n",
    "# Bilateral Blur \n",
    "bilateral = cv2.bilateralFilter(image, 9, 75, 75) \n",
    "cv2.imshow('Bilateral Blurring', bilateral) \n",
    "cv2.waitKey(1000) \n",
    "cv2.destroyAllWindows() \n"
   ]
  },
  {
   "cell_type": "markdown",
   "metadata": {},
   "source": [
    "Creating borders around img"
   ]
  },
  {
   "cell_type": "code",
   "execution_count": null,
   "metadata": {},
   "outputs": [],
   "source": [
    "path = r'BMW.jpg'\n",
    "\n",
    "image = cv2.imread(path) \n",
    "window_name = 'Image'\n",
    "image = cv2.copyMakeBorder(image, 10, 10, 10, 10, cv2.BORDER_CONSTANT, None, value = 0) \n",
    "cv2.imshow(window_name, image) \n"
   ]
  },
  {
   "cell_type": "markdown",
   "metadata": {},
   "source": [
    "Rotation"
   ]
  },
  {
   "cell_type": "code",
   "execution_count": null,
   "metadata": {},
   "outputs": [],
   "source": [
    "img = cv2.imread('BMW.jpg')\n",
    "image_rgb = cv2.cvtColor(img, cv2.COLOR_BGR2RGB)\n",
    "\n",
    "center = (image_rgb.shape[1] // 2, image_rgb.shape[0] // 2)\n",
    "angle = 30\n",
    "scale = 1\n",
    "\n",
    "rotation_matrix = cv2.getRotationMatrix2D(center, angle, scale)\n",
    "rotated_image = cv2.warpAffine(image_rgb, rotation_matrix, (img.shape[1], img.shape[0]))\n",
    "fig, axs = plt.subplots(1, 2, figsize=(7, 4))\n",
    "\n",
    "axs[0].imshow(image_rgb)\n",
    "axs[0].set_title('Original Image')\n",
    "axs[1].imshow(rotated_image)\n",
    "axs[1].set_title('Image Rotation')\n",
    "\n",
    "for ax in axs:\n",
    "    ax.set_xticks([])\n",
    "    ax.set_yticks([])\n",
    "\n",
    "plt.tight_layout()\n",
    "plt.show()\n"
   ]
  },
  {
   "cell_type": "markdown",
   "metadata": {},
   "source": [
    "Edge detection"
   ]
  },
  {
   "cell_type": "code",
   "execution_count": null,
   "metadata": {},
   "outputs": [],
   "source": [
    "img = cv2.imread('BMW.jpg')\n",
    "image_rgb = cv2.cvtColor(img, cv2.COLOR_BGR2RGB)\n",
    "\n",
    "edges = cv2.Canny(image= image_rgb, threshold1=100, threshold2=700)\n",
    "\n",
    "fig, axs = plt.subplots(1, 2, figsize=(7, 4))\n",
    "\n",
    "axs[0].imshow(image_rgb)\n",
    "axs[0].set_title('Original Image')\n",
    "\n",
    "axs[1].imshow(edges)\n",
    "axs[1].set_title('Image edges')\n",
    "\n",
    "for ax in axs:\n",
    "    ax.set_xticks([])\n",
    "    ax.set_yticks([])\n",
    "\n",
    "plt.tight_layout()\n",
    "plt.show()"
   ]
  },
  {
   "cell_type": "markdown",
   "metadata": {},
   "source": [
    "Filter color"
   ]
  },
  {
   "cell_type": "code",
   "execution_count": null,
   "metadata": {},
   "outputs": [],
   "source": [
    "cap = cv2.VideoCapture(0) \n",
    "\n",
    "while(1): \n",
    "\t_, frame = cap.read() \n",
    "\thsv = cv2.cvtColor(frame, cv2.COLOR_BGR2HSV) \n",
    "\n",
    "\tlower_blue = np.array([60, 35, 140]) \n",
    "\tupper_blue = np.array([180, 255, 255]) \n",
    "\n",
    "\tmask = cv2.inRange(hsv, lower_blue, upper_blue) \n",
    "\n",
    "\tresult = cv2.bitwise_and(frame, frame, mask = mask) \n",
    "\n",
    "\tcv2.imshow('frame', frame) \n",
    "\tcv2.imshow('mask', mask) \n",
    "\tcv2.imshow('result', result) \n",
    "\t\n",
    "\tcv2.waitKey(0) \n",
    "\n",
    "cv2.destroyAllWindows() \n",
    "cap.release() "
   ]
  },
  {
   "cell_type": "markdown",
   "metadata": {},
   "source": [
    "Smile detection "
   ]
  },
  {
   "cell_type": "code",
   "execution_count": null,
   "metadata": {},
   "outputs": [],
   "source": [
    "face_cascade = cv2.CascadeClassifier(cv2.data.haarcascades +'haarcascade_frontalface_default.xml') \n",
    "eye_cascade = cv2.CascadeClassifier(cv2.data.haarcascades +'haarcascade_eye.xml') \n",
    "smile_cascade = cv2.CascadeClassifier(cv2.data.haarcascades +'haarcascade_smile.xml') "
   ]
  },
  {
   "cell_type": "code",
   "execution_count": null,
   "metadata": {},
   "outputs": [],
   "source": [
    "faces = face_cascade.detectMultiScale(gray, 1.3, 5) "
   ]
  },
  {
   "cell_type": "code",
   "execution_count": null,
   "metadata": {},
   "outputs": [],
   "source": [
    "def detect(gray, frame): \n",
    "\tfaces = face_cascade.detectMultiScale(gray, 1.3, 5) \n",
    "\tfor (x, y, w, h) in faces: \n",
    "\t\tcv2.rectangle(frame, (x, y), ((x + w), (y + h)), (255, 0, 0), 2) \n",
    "\t\troi_gray = gray[y:y + h, x:x + w] \n",
    "\t\troi_color = frame[y:y + h, x:x + w] \n",
    "\t\tsmiles = smile_cascade.detectMultiScale(roi_gray, 1.8, 20) \n",
    "\n",
    "\t\tfor (sx, sy, sw, sh) in smiles: \n",
    "\t\t\tcv2.rectangle(roi_color, (sx, sy), ((sx + sw), (sy + sh)), (0, 0, 255), 2) \n",
    "\treturn frame "
   ]
  },
  {
   "cell_type": "code",
   "execution_count": null,
   "metadata": {},
   "outputs": [],
   "source": [
    "video_capture = cv2.VideoCapture(0) \n",
    "while video_capture.isOpened(): \n",
    "    \n",
    "\t_, frame = video_capture.read() \n",
    "\t\t\t\t\t \n",
    "\tgray = cv2.cvtColor(frame, cv2.COLOR_BGR2GRAY) \n",
    "\t \n",
    "\tcanvas = detect(gray, frame) \n",
    "\t\t\t\t\t \n",
    "\tcv2.imshow('Video', canvas) \n",
    "\t\t\t\t\t \n",
    "\tif cv2.waitKey(1) & 0xff == ord('q'):\t\t\t \n",
    "\t\tbreak\n",
    "\n",
    "video_capture.release()\t\t\t\t\t\t\t\t \n",
    "cv2.destroyAllWindows() "
   ]
  },
  {
   "cell_type": "markdown",
   "metadata": {},
   "source": [
    "Draw a line"
   ]
  },
  {
   "cell_type": "code",
   "execution_count": null,
   "metadata": {},
   "outputs": [],
   "source": [
    "path = r'BMW.jpg'\n",
    "\n",
    "image = cv2.imread(path)\n",
    "window_name = 'Image'\n",
    "start_point = (0, 0)\n",
    "end_point = (250, 250)\n",
    "color = (0, 255, 0)\n",
    "thickness = 9\n",
    "\n",
    "image = cv2.line(image, start_point, end_point, color, thickness)\n",
    "\n",
    "cv2.imshow(window_name, image) \n"
   ]
  },
  {
   "cell_type": "markdown",
   "metadata": {},
   "source": [
    "Play a video using OpenCV"
   ]
  },
  {
   "cell_type": "code",
   "execution_count": null,
   "metadata": {},
   "outputs": [],
   "source": [
    "cap = cv2.VideoCapture('clip.mp4')\n",
    "\n",
    "if (cap.isOpened()== False):\n",
    "    print(\"Error opening video file\")\n",
    "\n",
    "while(cap.isOpened()):\n",
    "\n",
    "    ret, frame = cap.read()\n",
    "    if ret == True:\n",
    "\n",
    "        cv2.imshow('Frame', frame)\n",
    "\n",
    "        if cv2.waitKey(25) & 0xFF == ord('q'):\n",
    "            break\n",
    "\n",
    "    else:\n",
    "        break\n",
    "\n",
    "cap.release()\n",
    "\n",
    "cv2.destroyAllWindows()\n"
   ]
  },
  {
   "cell_type": "markdown",
   "metadata": {},
   "source": [
    "Create video using multiple images"
   ]
  },
  {
   "cell_type": "code",
   "execution_count": 29,
   "metadata": {},
   "outputs": [
    {
     "name": "stdout",
     "output_type": "stream",
     "text": [
      "Number of Images: 2\n"
     ]
    }
   ],
   "source": [
    "path = '/Users/apple/Documents/Superior University/4TH SEMESTER/Intro to AI (LAB)/Assignments/OpenCv/images'\n",
    "os.chdir(path)\n",
    "\n",
    "mean_height = 0\n",
    "mean_width = 0\n",
    "\n",
    "num_of_images = len([file for file in os.listdir('.') if file.endswith((\".jpg\", \".jpeg\", \".png\"))])\n",
    "print(\"Number of Images:\", num_of_images)\n"
   ]
  },
  {
   "cell_type": "code",
   "execution_count": 30,
   "metadata": {},
   "outputs": [
    {
     "name": "stdout",
     "output_type": "stream",
     "text": [
      "AMG.jpg is resized\n",
      "BMW.jpg is resized\n"
     ]
    }
   ],
   "source": [
    "for file in os.listdir('.'):\n",
    "    if file.endswith(\".jpg\") or file.endswith(\".jpeg\") or file.endswith(\"png\"):\n",
    "        im = Image.open(os.path.join(path, file))\n",
    "        width, height = im.size\n",
    "        mean_width += width\n",
    "        mean_height += height\n",
    "\n",
    "mean_width = int(mean_width / num_of_images)\n",
    "mean_height = int(mean_height / num_of_images)\n",
    "\n",
    "for file in os.listdir('.'):\n",
    "    if file.endswith(\".jpg\") or file.endswith(\".jpeg\") or file.endswith(\"png\"):\n",
    "        im = Image.open(os.path.join(path, file))\n",
    "\n",
    "        im_resized = im.resize((mean_width, mean_height), Image.LANCZOS)\n",
    "        im_resized.save(file, 'JPEG', quality=95)\n",
    "        print(f\"{file} is resized\")\n"
   ]
  },
  {
   "cell_type": "code",
   "execution_count": 32,
   "metadata": {},
   "outputs": [
    {
     "name": "stdout",
     "output_type": "stream",
     "text": [
      "Images: ['AMG.jpg', 'BMW.jpg']\n",
      "Video generated successfully!\n"
     ]
    }
   ],
   "source": [
    "def generate_video():\n",
    "    image_folder = path\n",
    "    video_name = 'mygeneratedvideo.avi'\n",
    "\n",
    "    images = [img for img in os.listdir(image_folder) if img.endswith((\".jpg\", \".jpeg\", \".png\"))]\n",
    "    print(\"Images:\", images)\n",
    "\n",
    "    frame = cv2.imread(os.path.join(image_folder, images[0]))\n",
    "    height, width, layers = frame.shape\n",
    "\n",
    "    video = cv2.VideoWriter(video_name, cv2.VideoWriter_fourcc(*'DIVX'), 1, (width, height))\n",
    "\n",
    "    for image in images:\n",
    "        video.write(cv2.imread(os.path.join(image_folder, image)))\n",
    "\n",
    "    video.release()\n",
    "    cv2.destroyAllWindows()\n",
    "    print(\"Video generated successfully!\")\n",
    "\n",
    "generate_video()\n"
   ]
  },
  {
   "cell_type": "markdown",
   "metadata": {},
   "source": [
    "Extract images from video"
   ]
  },
  {
   "cell_type": "code",
   "execution_count": null,
   "metadata": {},
   "outputs": [
    {
     "name": "stdout",
     "output_type": "stream",
     "text": [
      "Creating... data/frame0.jpg\n",
      "Creating... data/frame1.jpg\n",
      "Creating... data/frame2.jpg\n",
      "Creating... data/frame3.jpg\n",
      "Creating... data/frame4.jpg\n",
      "Creating... data/frame5.jpg\n",
      "Creating... data/frame6.jpg\n",
      "Creating... data/frame7.jpg\n",
      "Creating... data/frame8.jpg\n",
      "Creating... data/frame9.jpg\n",
      "Creating... data/frame10.jpg\n",
      "Creating... data/frame11.jpg\n",
      "Creating... data/frame12.jpg\n",
      "Creating... data/frame13.jpg\n",
      "Creating... data/frame14.jpg\n",
      "Creating... data/frame15.jpg\n",
      "Creating... data/frame16.jpg\n",
      "Creating... data/frame17.jpg\n",
      "Creating... data/frame18.jpg\n",
      "Creating... data/frame19.jpg\n",
      "Creating... data/frame20.jpg\n",
      "Creating... data/frame21.jpg\n",
      "Creating... data/frame22.jpg\n",
      "Creating... data/frame23.jpg\n",
      "Creating... data/frame24.jpg\n",
      "Creating... data/frame25.jpg\n",
      "Creating... data/frame26.jpg\n",
      "Creating... data/frame27.jpg\n",
      "Creating... data/frame28.jpg\n",
      "Creating... data/frame29.jpg\n",
      "Creating... data/frame30.jpg\n",
      "Creating... data/frame31.jpg\n",
      "Creating... data/frame32.jpg\n",
      "Creating... data/frame33.jpg\n",
      "Creating... data/frame34.jpg\n",
      "Creating... data/frame35.jpg\n",
      "Creating... data/frame36.jpg\n",
      "Creating... data/frame37.jpg\n",
      "Creating... data/frame38.jpg\n",
      "Creating... data/frame39.jpg\n",
      "Creating... data/frame40.jpg\n",
      "Creating... data/frame41.jpg\n",
      "Creating... data/frame42.jpg\n",
      "Creating... data/frame43.jpg\n",
      "Creating... data/frame44.jpg\n",
      "Creating... data/frame45.jpg\n",
      "Creating... data/frame46.jpg\n",
      "Creating... data/frame47.jpg\n",
      "Creating... data/frame48.jpg\n",
      "Creating... data/frame49.jpg\n",
      "Creating... data/frame50.jpg\n",
      "Creating... data/frame51.jpg\n",
      "Creating... data/frame52.jpg\n",
      "Creating... data/frame53.jpg\n",
      "Creating... data/frame54.jpg\n",
      "Creating... data/frame55.jpg\n",
      "Creating... data/frame56.jpg\n",
      "Creating... data/frame57.jpg\n",
      "Creating... data/frame58.jpg\n",
      "Creating... data/frame59.jpg\n",
      "Creating... data/frame60.jpg\n",
      "Creating... data/frame61.jpg\n",
      "Creating... data/frame62.jpg\n",
      "Creating... data/frame63.jpg\n",
      "Creating... data/frame64.jpg\n",
      "Creating... data/frame65.jpg\n",
      "Creating... data/frame66.jpg\n",
      "Creating... data/frame67.jpg\n",
      "Creating... data/frame68.jpg\n",
      "Creating... data/frame69.jpg\n",
      "Creating... data/frame70.jpg\n",
      "Creating... data/frame71.jpg\n",
      "Creating... data/frame72.jpg\n",
      "Creating... data/frame73.jpg\n",
      "Creating... data/frame74.jpg\n",
      "Creating... data/frame75.jpg\n",
      "Creating... data/frame76.jpg\n",
      "Creating... data/frame77.jpg\n",
      "Creating... data/frame78.jpg\n",
      "Creating... data/frame79.jpg\n",
      "Creating... data/frame80.jpg\n",
      "Creating... data/frame81.jpg\n",
      "Creating... data/frame82.jpg\n",
      "Creating... data/frame83.jpg\n",
      "Creating... data/frame84.jpg\n",
      "Creating... data/frame85.jpg\n",
      "Creating... data/frame86.jpg\n",
      "Creating... data/frame87.jpg\n",
      "Creating... data/frame88.jpg\n",
      "Creating... data/frame89.jpg\n",
      "Creating... data/frame90.jpg\n",
      "Creating... data/frame91.jpg\n",
      "Creating... data/frame92.jpg\n",
      "Creating... data/frame93.jpg\n",
      "Creating... data/frame94.jpg\n",
      "Creating... data/frame95.jpg\n",
      "Creating... data/frame96.jpg\n",
      "Creating... data/frame97.jpg\n",
      "Creating... data/frame98.jpg\n",
      "Creating... data/frame99.jpg\n",
      "Creating... data/frame100.jpg\n",
      "Creating... data/frame101.jpg\n",
      "Creating... data/frame102.jpg\n",
      "Creating... data/frame103.jpg\n",
      "Creating... data/frame104.jpg\n",
      "Creating... data/frame105.jpg\n",
      "Creating... data/frame106.jpg\n",
      "Creating... data/frame107.jpg\n",
      "Creating... data/frame108.jpg\n",
      "Creating... data/frame109.jpg\n",
      "Creating... data/frame110.jpg\n",
      "Creating... data/frame111.jpg\n",
      "Creating... data/frame112.jpg\n",
      "Creating... data/frame113.jpg\n",
      "Creating... data/frame114.jpg\n",
      "Creating... data/frame115.jpg\n",
      "Creating... data/frame116.jpg\n",
      "Creating... data/frame117.jpg\n",
      "Creating... data/frame118.jpg\n",
      "Creating... data/frame119.jpg\n",
      "Creating... data/frame120.jpg\n",
      "Creating... data/frame121.jpg\n",
      "Creating... data/frame122.jpg\n",
      "Creating... data/frame123.jpg\n",
      "Creating... data/frame124.jpg\n",
      "Creating... data/frame125.jpg\n",
      "Creating... data/frame126.jpg\n",
      "Creating... data/frame127.jpg\n",
      "Creating... data/frame128.jpg\n",
      "Creating... data/frame129.jpg\n",
      "Creating... data/frame130.jpg\n",
      "Creating... data/frame131.jpg\n",
      "Creating... data/frame132.jpg\n",
      "Creating... data/frame133.jpg\n",
      "Creating... data/frame134.jpg\n",
      "Creating... data/frame135.jpg\n",
      "Creating... data/frame136.jpg\n",
      "Creating... data/frame137.jpg\n",
      "Creating... data/frame138.jpg\n",
      "Creating... data/frame139.jpg\n",
      "Creating... data/frame140.jpg\n"
     ]
    },
    {
     "ename": "",
     "evalue": "",
     "output_type": "error",
     "traceback": [
      "\u001b[1;31mThe Kernel crashed while executing code in the current cell or a previous cell. \n",
      "\u001b[1;31mPlease review the code in the cell(s) to identify a possible cause of the failure. \n",
      "\u001b[1;31mClick <a href='https://aka.ms/vscodeJupyterKernelCrash'>here</a> for more info. \n",
      "\u001b[1;31mView Jupyter <a href='command:jupyter.viewOutput'>log</a> for further details."
     ]
    }
   ],
   "source": [
    "video_path = \"/Users/apple/Documents/Superior University/4TH SEMESTER/Intro to AI (LAB)/Assignments/OpenCv/clip.mp4\"\n",
    "\n",
    "# Open video file\n",
    "cam = cv2.VideoCapture(video_path)\n",
    "\n",
    "# Ensure the 'data' directory exists\n",
    "output_folder = \"data\"\n",
    "os.makedirs(output_folder, exist_ok=True)\n",
    "\n",
    "currentframe = 0\n",
    "\n",
    "while True:\n",
    "    ret, frame = cam.read()  # Read the video frame\n",
    "\n",
    "    if ret:\n",
    "        # Save the frame as an image\n",
    "        frame_filename = os.path.join(output_folder, f\"frame{currentframe}.jpg\")\n",
    "        cv2.imwrite(frame_filename, frame)\n",
    "        print(f\"Creating... {frame_filename}\")\n",
    "\n",
    "        currentframe += 1\n",
    "    else:\n",
    "        break  # Stop if there are no more frames\n",
    "\n",
    "# Release video and close OpenCV windows\n",
    "cam.release()\n",
    "cv2.destroyAllWindows()\n"
   ]
  }
 ],
 "metadata": {
  "kernelspec": {
   "display_name": "Python 3",
   "language": "python",
   "name": "python3"
  },
  "language_info": {
   "codemirror_mode": {
    "name": "ipython",
    "version": 3
   },
   "file_extension": ".py",
   "mimetype": "text/x-python",
   "name": "python",
   "nbconvert_exporter": "python",
   "pygments_lexer": "ipython3",
   "version": "3.12.1"
  }
 },
 "nbformat": 4,
 "nbformat_minor": 2
}
