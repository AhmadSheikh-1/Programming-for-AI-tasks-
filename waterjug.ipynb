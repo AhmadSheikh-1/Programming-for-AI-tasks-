{
 "cells": [
  {
   "cell_type": "code",
   "execution_count": 1,
   "metadata": {},
   "outputs": [],
   "source": [
    "from collections import deque"
   ]
  },
  {
   "cell_type": "code",
   "execution_count": 2,
   "metadata": {},
   "outputs": [
    {
     "name": "stdout",
     "output_type": "stream",
     "text": [
      "Solution Found\n",
      "(0, 0)\n",
      "(4, 0)\n",
      "(0, 3)\n",
      "(3, 3)\n",
      "(4, 4)\n",
      "(4, 3)\n",
      "(0, 4)\n",
      "(1, 3)\n",
      "(3, 0)\n",
      "(4, 1)\n",
      "(0, 6)\n",
      "(6, 0)\n",
      "(4, 2)\n"
     ]
    },
    {
     "data": {
      "text/plain": [
       "True"
      ]
     },
     "execution_count": 2,
     "metadata": {},
     "output_type": "execute_result"
    }
   ],
   "source": [
    "def WaterJugProblem(c1, c2, goal):\n",
    "    queue = deque()\n",
    "    visited = set()\n",
    "    actions = []\n",
    "    \n",
    "    queue.append((0, 0)) # x = 0, y = 0\n",
    "    visited.add((0,0))\n",
    "    \n",
    "    while queue:\n",
    "        jug1, jug2 = queue.popleft()\n",
    "        actions.append((jug1, jug2))\n",
    "        \n",
    "        if jug1 == goal or jug2 == goal:\n",
    "            print(\"Solution Found\")\n",
    "            for state in actions:\n",
    "                print(state)\n",
    "            return True\n",
    "        \n",
    "        rules = [\n",
    "            \n",
    "            (c1, jug2), # 1. Fill X\n",
    "            (jug1, c2), # 2. Fill Y\n",
    "            (0, jug2), # 3. Empty X\n",
    "            (jug1, 0), # 4. Empty Y\n",
    "            (0, jug1 + jug2), # 5. Pour X into Y, until X is empty\n",
    "            (jug1 + jug2, 0), # 6. Pour Y into X, until Y is empty\n",
    "            (abs(jug1 - (c2 - jug2)), c2), # 7. Pour X into Y, untill Y is full\n",
    "            (c1, abs(jug2 - (c1 - jug1))), # 8. Pour Y into X, untill X is full\n",
    "         \n",
    "         ]\n",
    "        \n",
    "        for rule in rules:\n",
    "            if rule not in visited:\n",
    "                queue.append(rule)\n",
    "                visited.add(rule)  \n",
    "        \n",
    "jug1Capacity = 4\n",
    "jug2Capacity = 3\n",
    "goal = 2\n",
    "\n",
    "WaterJugProblem(jug1Capacity, jug2Capacity, goal )"
   ]
  }
 ],
 "metadata": {
  "kernelspec": {
   "display_name": "Python 3",
   "language": "python",
   "name": "python3"
  },
  "language_info": {
   "codemirror_mode": {
    "name": "ipython",
    "version": 3
   },
   "file_extension": ".py",
   "mimetype": "text/x-python",
   "name": "python",
   "nbconvert_exporter": "python",
   "pygments_lexer": "ipython3",
   "version": "3.12.1"
  }
 },
 "nbformat": 4,
 "nbformat_minor": 2
}
