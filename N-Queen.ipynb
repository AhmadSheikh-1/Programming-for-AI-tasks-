{
 "cells": [
  {
   "cell_type": "code",
   "execution_count": 1,
   "metadata": {},
   "outputs": [
    {
     "name": "stdout",
     "output_type": "stream",
     "text": [
      "Solution for the N-Queens problem:\n",
      "Q . . . . . . . . . \n",
      ". . . . . . . Q . . \n",
      ". Q . . . . . . . . \n",
      ". . . . . . . . Q . \n",
      ". . . . . Q . . . . \n",
      ". . Q . . . . . . . \n",
      ". . . . . . . . . Q \n",
      ". . . Q . . . . . . \n",
      ". . . . . . Q . . . \n",
      ". . . . Q . . . . . \n",
      "\n",
      "\n"
     ]
    }
   ],
   "source": [
    "def is_safe(board, row, col, n):\n",
    "    \n",
    "    for i in range(col):\n",
    "        if board[row][i] == 1:\n",
    "            return False\n",
    "\n",
    "    for i in range(1, min(row, col) + 1):\n",
    "        if board[row - i][col - i ] == 1:\n",
    "             return False\n",
    "\n",
    "    for i in range(1, min(n - row - 1, col) + 1):\n",
    "        if board[row + i][col - i] == 1:\n",
    "             return False\n",
    "\n",
    "    return True\n",
    "\n",
    "def solve_n_queens(board, col, n):\n",
    "    if col == n:\n",
    "        return True\n",
    "\n",
    "    for i in range(n):\n",
    "        if is_safe(board, i, col, n):\n",
    "            board[i][col] = 1\n",
    "\n",
    "            if solve_n_queens(board, col + 1, n):\n",
    "                return True\n",
    "\n",
    "            board[i][col] = 0 \n",
    "\n",
    "    return False\n",
    "\n",
    "def print_board(board, n):\n",
    "    for i in range(n):\n",
    "        for j in range(n):\n",
    "            print(\"Q\" if board[i][j] == 1 else \".\", end=\" \")\n",
    "        print()\n",
    "    print(\"\\n\")\n",
    "\n",
    "def main():\n",
    "    n = int(input(\"Enter the size of the board (N): \"))\n",
    "    board = [[0 for _ in range(n)] for _ in range(n)]\n",
    "\n",
    "    if solve_n_queens(board, 0, n):\n",
    "        print(\"Solution for the N-Queens problem:\")\n",
    "        print_board(board, n)\n",
    "    else:\n",
    "        print(\"No solution exists.\")\n",
    "\n",
    "if __name__ == \"__main__\":\n",
    "    main()\n"
   ]
  }
 ],
 "metadata": {
  "kernelspec": {
   "display_name": "Python 3",
   "language": "python",
   "name": "python3"
  },
  "language_info": {
   "codemirror_mode": {
    "name": "ipython",
    "version": 3
   },
   "file_extension": ".py",
   "mimetype": "text/x-python",
   "name": "python",
   "nbconvert_exporter": "python",
   "pygments_lexer": "ipython3",
   "version": "3.12.1"
  }
 },
 "nbformat": 4,
 "nbformat_minor": 2
}
